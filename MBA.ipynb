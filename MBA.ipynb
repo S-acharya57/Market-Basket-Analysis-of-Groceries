{
 "cells": [
  {
   "cell_type": "markdown",
   "id": "40ff2611",
   "metadata": {},
   "source": [
    "# Market Basket Analysis"
   ]
  },
  {
   "cell_type": "markdown",
   "id": "c4a172ea",
   "metadata": {},
   "source": [
    "- analysis of baskets all together\n",
    "- powerful tool for implementation of up-selling, cross-selling and inventory management strategies\n",
    "- useful in stock management and placement of items\n",
    "- \n",
    "### Association Rule Mining?"
   ]
  },
  {
   "cell_type": "markdown",
   "id": "d4f28be5",
   "metadata": {},
   "source": [
    "#### Lift? \n",
    "    - provides information on whether an association exists\n",
    "    \n",
    "#### Support?\n",
    "    - fraction of transactions in dataset that containts that item\n",
    "#### Confidence?\n",
    "    - conditional probability that shows the transaction containing LHS will have RHS?"
   ]
  },
  {
   "cell_type": "code",
   "execution_count": 153,
   "id": "a3aa35ce",
   "metadata": {},
   "outputs": [],
   "source": [
    "import warnings\n",
    "\n",
    "# Suppress DeprecationWarning\n",
    "warnings.filterwarnings(\"ignore\", category=DeprecationWarning)"
   ]
  },
  {
   "cell_type": "code",
   "execution_count": 175,
   "id": "a790895d-90ff-4a92-8066-f00d362e5587",
   "metadata": {},
   "outputs": [],
   "source": [
    "import pandas as pd\n",
    "import matplotlib.pyplot as plt\n",
    "import numpy as np\n",
    "import seaborn as sns"
   ]
  },
  {
   "cell_type": "code",
   "execution_count": 2,
   "id": "cc07ab8b-0855-4655-91a3-0307f8359659",
   "metadata": {},
   "outputs": [],
   "source": [
    "grocery_df = pd.read_csv('Groceries data.csv')\n",
    "basket_df = pd.read_csv(\"basket.csv\")"
   ]
  },
  {
   "cell_type": "code",
   "execution_count": 3,
   "id": "56ecb62a-15f1-40a9-9eb8-b232242eba26",
   "metadata": {},
   "outputs": [
    {
     "name": "stdout",
     "output_type": "stream",
     "text": [
      "   Member_number        Date   itemDescription  year  month  day  day_of_week\n",
      "0           1808  2015-07-21    tropical fruit  2015      7   21            1\n",
      "1           2552  2015-05-01        whole milk  2015      5    1            4\n",
      "2           2300  2015-09-19         pip fruit  2015      9   19            5\n",
      "3           1187  2015-12-12  other vegetables  2015     12   12            5\n",
      "4           3037  2015-01-02        whole milk  2015      1    2            4\n"
     ]
    },
    {
     "data": {
      "text/html": [
       "<div>\n",
       "<style scoped>\n",
       "    .dataframe tbody tr th:only-of-type {\n",
       "        vertical-align: middle;\n",
       "    }\n",
       "\n",
       "    .dataframe tbody tr th {\n",
       "        vertical-align: top;\n",
       "    }\n",
       "\n",
       "    .dataframe thead th {\n",
       "        text-align: right;\n",
       "    }\n",
       "</style>\n",
       "<table border=\"1\" class=\"dataframe\">\n",
       "  <thead>\n",
       "    <tr style=\"text-align: right;\">\n",
       "      <th></th>\n",
       "      <th>Member_number</th>\n",
       "      <th>year</th>\n",
       "      <th>month</th>\n",
       "      <th>day</th>\n",
       "      <th>day_of_week</th>\n",
       "    </tr>\n",
       "  </thead>\n",
       "  <tbody>\n",
       "    <tr>\n",
       "      <th>count</th>\n",
       "      <td>38765.000000</td>\n",
       "      <td>38765.000000</td>\n",
       "      <td>38765.000000</td>\n",
       "      <td>38765.000000</td>\n",
       "      <td>38765.000000</td>\n",
       "    </tr>\n",
       "    <tr>\n",
       "      <th>mean</th>\n",
       "      <td>3003.641868</td>\n",
       "      <td>2014.528518</td>\n",
       "      <td>6.477570</td>\n",
       "      <td>15.753231</td>\n",
       "      <td>3.014498</td>\n",
       "    </tr>\n",
       "    <tr>\n",
       "      <th>std</th>\n",
       "      <td>1153.611031</td>\n",
       "      <td>0.499193</td>\n",
       "      <td>3.431561</td>\n",
       "      <td>8.801391</td>\n",
       "      <td>1.987669</td>\n",
       "    </tr>\n",
       "    <tr>\n",
       "      <th>min</th>\n",
       "      <td>1000.000000</td>\n",
       "      <td>2014.000000</td>\n",
       "      <td>1.000000</td>\n",
       "      <td>1.000000</td>\n",
       "      <td>0.000000</td>\n",
       "    </tr>\n",
       "    <tr>\n",
       "      <th>25%</th>\n",
       "      <td>2002.000000</td>\n",
       "      <td>2014.000000</td>\n",
       "      <td>4.000000</td>\n",
       "      <td>8.000000</td>\n",
       "      <td>1.000000</td>\n",
       "    </tr>\n",
       "    <tr>\n",
       "      <th>50%</th>\n",
       "      <td>3005.000000</td>\n",
       "      <td>2015.000000</td>\n",
       "      <td>6.000000</td>\n",
       "      <td>16.000000</td>\n",
       "      <td>3.000000</td>\n",
       "    </tr>\n",
       "    <tr>\n",
       "      <th>75%</th>\n",
       "      <td>4007.000000</td>\n",
       "      <td>2015.000000</td>\n",
       "      <td>9.000000</td>\n",
       "      <td>23.000000</td>\n",
       "      <td>5.000000</td>\n",
       "    </tr>\n",
       "    <tr>\n",
       "      <th>max</th>\n",
       "      <td>5000.000000</td>\n",
       "      <td>2015.000000</td>\n",
       "      <td>12.000000</td>\n",
       "      <td>31.000000</td>\n",
       "      <td>6.000000</td>\n",
       "    </tr>\n",
       "  </tbody>\n",
       "</table>\n",
       "</div>"
      ],
      "text/plain": [
       "       Member_number          year         month           day   day_of_week\n",
       "count   38765.000000  38765.000000  38765.000000  38765.000000  38765.000000\n",
       "mean     3003.641868   2014.528518      6.477570     15.753231      3.014498\n",
       "std      1153.611031      0.499193      3.431561      8.801391      1.987669\n",
       "min      1000.000000   2014.000000      1.000000      1.000000      0.000000\n",
       "25%      2002.000000   2014.000000      4.000000      8.000000      1.000000\n",
       "50%      3005.000000   2015.000000      6.000000     16.000000      3.000000\n",
       "75%      4007.000000   2015.000000      9.000000     23.000000      5.000000\n",
       "max      5000.000000   2015.000000     12.000000     31.000000      6.000000"
      ]
     },
     "execution_count": 3,
     "metadata": {},
     "output_type": "execute_result"
    }
   ],
   "source": [
    "print(grocery_df.head()) \n",
    "grocery_df.describe()"
   ]
  },
  {
   "cell_type": "code",
   "execution_count": 4,
   "id": "7666de70-ea9c-46a3-a7f3-b3200862c5db",
   "metadata": {},
   "outputs": [
    {
     "name": "stdout",
     "output_type": "stream",
     "text": [
      "             0                   1                    2       3    4    5  \\\n",
      "0   whole milk              pastry          salty snack     NaN  NaN  NaN   \n",
      "1      sausage          whole milk  semi-finished bread  yogurt  NaN  NaN   \n",
      "2         soda  pickled vegetables                  NaN     NaN  NaN  NaN   \n",
      "3  canned beer     misc. beverages                  NaN     NaN  NaN  NaN   \n",
      "4      sausage    hygiene articles                  NaN     NaN  NaN  NaN   \n",
      "\n",
      "     6    7    8    9   10  \n",
      "0  NaN  NaN  NaN  NaN  NaN  \n",
      "1  NaN  NaN  NaN  NaN  NaN  \n",
      "2  NaN  NaN  NaN  NaN  NaN  \n",
      "3  NaN  NaN  NaN  NaN  NaN  \n",
      "4  NaN  NaN  NaN  NaN  NaN  \n"
     ]
    },
    {
     "data": {
      "text/html": [
       "<div>\n",
       "<style scoped>\n",
       "    .dataframe tbody tr th:only-of-type {\n",
       "        vertical-align: middle;\n",
       "    }\n",
       "\n",
       "    .dataframe tbody tr th {\n",
       "        vertical-align: top;\n",
       "    }\n",
       "\n",
       "    .dataframe thead th {\n",
       "        text-align: right;\n",
       "    }\n",
       "</style>\n",
       "<table border=\"1\" class=\"dataframe\">\n",
       "  <thead>\n",
       "    <tr style=\"text-align: right;\">\n",
       "      <th></th>\n",
       "      <th>0</th>\n",
       "      <th>1</th>\n",
       "      <th>2</th>\n",
       "      <th>3</th>\n",
       "      <th>4</th>\n",
       "      <th>5</th>\n",
       "      <th>6</th>\n",
       "      <th>7</th>\n",
       "      <th>8</th>\n",
       "      <th>9</th>\n",
       "      <th>10</th>\n",
       "    </tr>\n",
       "  </thead>\n",
       "  <tbody>\n",
       "    <tr>\n",
       "      <th>count</th>\n",
       "      <td>14963</td>\n",
       "      <td>14963</td>\n",
       "      <td>4883</td>\n",
       "      <td>2185</td>\n",
       "      <td>795</td>\n",
       "      <td>451</td>\n",
       "      <td>276</td>\n",
       "      <td>196</td>\n",
       "      <td>51</td>\n",
       "      <td>1</td>\n",
       "      <td>1</td>\n",
       "    </tr>\n",
       "    <tr>\n",
       "      <th>unique</th>\n",
       "      <td>165</td>\n",
       "      <td>165</td>\n",
       "      <td>154</td>\n",
       "      <td>146</td>\n",
       "      <td>126</td>\n",
       "      <td>101</td>\n",
       "      <td>88</td>\n",
       "      <td>72</td>\n",
       "      <td>35</td>\n",
       "      <td>1</td>\n",
       "      <td>1</td>\n",
       "    </tr>\n",
       "    <tr>\n",
       "      <th>top</th>\n",
       "      <td>whole milk</td>\n",
       "      <td>whole milk</td>\n",
       "      <td>whole milk</td>\n",
       "      <td>whole milk</td>\n",
       "      <td>whole milk</td>\n",
       "      <td>shopping bags</td>\n",
       "      <td>yogurt</td>\n",
       "      <td>whole milk</td>\n",
       "      <td>shopping bags</td>\n",
       "      <td>curd</td>\n",
       "      <td>newspapers</td>\n",
       "    </tr>\n",
       "    <tr>\n",
       "      <th>freq</th>\n",
       "      <td>1083</td>\n",
       "      <td>983</td>\n",
       "      <td>244</td>\n",
       "      <td>111</td>\n",
       "      <td>39</td>\n",
       "      <td>25</td>\n",
       "      <td>19</td>\n",
       "      <td>14</td>\n",
       "      <td>4</td>\n",
       "      <td>1</td>\n",
       "      <td>1</td>\n",
       "    </tr>\n",
       "  </tbody>\n",
       "</table>\n",
       "</div>"
      ],
      "text/plain": [
       "                 0           1           2           3           4  \\\n",
       "count        14963       14963        4883        2185         795   \n",
       "unique         165         165         154         146         126   \n",
       "top     whole milk  whole milk  whole milk  whole milk  whole milk   \n",
       "freq          1083         983         244         111          39   \n",
       "\n",
       "                    5       6           7              8     9          10  \n",
       "count             451     276         196             51     1           1  \n",
       "unique            101      88          72             35     1           1  \n",
       "top     shopping bags  yogurt  whole milk  shopping bags  curd  newspapers  \n",
       "freq               25      19          14              4     1           1  "
      ]
     },
     "execution_count": 4,
     "metadata": {},
     "output_type": "execute_result"
    }
   ],
   "source": [
    "print(basket_df.head())\n",
    "basket_df.describe()"
   ]
  },
  {
   "cell_type": "code",
   "execution_count": 5,
   "id": "86bc6d2b-dd24-4c03-84d4-edefada319fd",
   "metadata": {},
   "outputs": [
    {
     "name": "stdout",
     "output_type": "stream",
     "text": [
      "Member_number       int64\n",
      "Date               object\n",
      "itemDescription    object\n",
      "year                int64\n",
      "month               int64\n",
      "day                 int64\n",
      "day_of_week         int64\n",
      "dtype: object\n"
     ]
    },
    {
     "data": {
      "text/plain": [
       "0     object\n",
       "1     object\n",
       "2     object\n",
       "3     object\n",
       "4     object\n",
       "5     object\n",
       "6     object\n",
       "7     object\n",
       "8     object\n",
       "9     object\n",
       "10    object\n",
       "dtype: object"
      ]
     },
     "execution_count": 5,
     "metadata": {},
     "output_type": "execute_result"
    }
   ],
   "source": [
    "print(grocery_df.dtypes) \n",
    "basket_df.dtypes"
   ]
  },
  {
   "cell_type": "code",
   "execution_count": 6,
   "id": "c199821d-4c2f-4f2a-a2ea-7d839da6d4b8",
   "metadata": {},
   "outputs": [
    {
     "data": {
      "text/plain": [
       "924"
      ]
     },
     "execution_count": 6,
     "metadata": {},
     "output_type": "execute_result"
    }
   ],
   "source": [
    "freq_sold = grocery_df['itemDescription'].value_counts()\n",
    "#Series object, taking the top 25 items based on the value counts\n",
    "freq_sold = freq_sold.nlargest(25)\n",
    "freq_sold['sausage']"
   ]
  },
  {
   "cell_type": "code",
   "execution_count": 7,
   "id": "31b915e7-adc9-4ccf-9c48-aefa8d843672",
   "metadata": {},
   "outputs": [
    {
     "data": {
      "text/plain": [
       "<AxesSubplot:>"
      ]
     },
     "execution_count": 7,
     "metadata": {},
     "output_type": "execute_result"
    },
    {
     "data": {
      "image/png": "[encoded data removed]",
      "text/plain": [
       "<Figure size 640x480 with 1 Axes>"
      ]
     },
     "metadata": {},
     "output_type": "display_data"
    }
   ],
   "source": [
    "freq_sold.plot(kind='bar', rot=90)"
   ]
  },
  {
   "cell_type": "code",
   "execution_count": 8,
   "id": "7ed83184",
   "metadata": {},
   "outputs": [
    {
     "data": {
      "text/html": [
       "<div>\n",
       "<style scoped>\n",
       "    .dataframe tbody tr th:only-of-type {\n",
       "        vertical-align: middle;\n",
       "    }\n",
       "\n",
       "    .dataframe tbody tr th {\n",
       "        vertical-align: top;\n",
       "    }\n",
       "\n",
       "    .dataframe thead th {\n",
       "        text-align: right;\n",
       "    }\n",
       "</style>\n",
       "<table border=\"1\" class=\"dataframe\">\n",
       "  <thead>\n",
       "    <tr style=\"text-align: right;\">\n",
       "      <th></th>\n",
       "      <th>Member_number</th>\n",
       "      <th>Date</th>\n",
       "      <th>itemDescription</th>\n",
       "      <th>year</th>\n",
       "      <th>month</th>\n",
       "      <th>day</th>\n",
       "      <th>day_of_week</th>\n",
       "    </tr>\n",
       "  </thead>\n",
       "  <tbody>\n",
       "    <tr>\n",
       "      <th>2</th>\n",
       "      <td>2300</td>\n",
       "      <td>2015-09-19</td>\n",
       "      <td>pip fruit</td>\n",
       "      <td>2015</td>\n",
       "      <td>9</td>\n",
       "      <td>19</td>\n",
       "      <td>5</td>\n",
       "    </tr>\n",
       "    <tr>\n",
       "      <th>16151</th>\n",
       "      <td>2300</td>\n",
       "      <td>2015-09-19</td>\n",
       "      <td>other vegetables</td>\n",
       "      <td>2015</td>\n",
       "      <td>9</td>\n",
       "      <td>19</td>\n",
       "      <td>5</td>\n",
       "    </tr>\n",
       "    <tr>\n",
       "      <th>36090</th>\n",
       "      <td>2300</td>\n",
       "      <td>2015-09-19</td>\n",
       "      <td>flour</td>\n",
       "      <td>2015</td>\n",
       "      <td>9</td>\n",
       "      <td>19</td>\n",
       "      <td>5</td>\n",
       "    </tr>\n",
       "  </tbody>\n",
       "</table>\n",
       "</div>"
      ],
      "text/plain": [
       "       Member_number        Date   itemDescription  year  month  day  \\\n",
       "2               2300  2015-09-19         pip fruit  2015      9   19   \n",
       "16151           2300  2015-09-19  other vegetables  2015      9   19   \n",
       "36090           2300  2015-09-19             flour  2015      9   19   \n",
       "\n",
       "       day_of_week  \n",
       "2                5  \n",
       "16151            5  \n",
       "36090            5  "
      ]
     },
     "execution_count": 8,
     "metadata": {},
     "output_type": "execute_result"
    }
   ],
   "source": [
    "#getting the df of one particular user in a particular date\n",
    "specific_data = grocery_df[(grocery_df['Member_number'] == 2300) & (grocery_df['Date']=='2015-09-19')]\n",
    "specific_data"
   ]
  },
  {
   "cell_type": "code",
   "execution_count": 9,
   "id": "9dfab0b2",
   "metadata": {},
   "outputs": [
    {
     "data": {
      "text/plain": [
       "(38765,)"
      ]
     },
     "execution_count": 9,
     "metadata": {},
     "output_type": "execute_result"
    }
   ],
   "source": [
    "all_members = grocery_df['Member_number'].values\n",
    "all_members.shape"
   ]
  },
  {
   "cell_type": "code",
   "execution_count": 10,
   "id": "1a5c8288",
   "metadata": {},
   "outputs": [
    {
     "data": {
      "text/plain": [
       "(38765,)"
      ]
     },
     "execution_count": 10,
     "metadata": {},
     "output_type": "execute_result"
    }
   ],
   "source": [
    "all_dates = grocery_df['Date'].values\n",
    "all_dates.shape"
   ]
  },
  {
   "cell_type": "code",
   "execution_count": 192,
   "id": "d584b530",
   "metadata": {},
   "outputs": [
    {
     "data": {
      "text/html": [
       "<div>\n",
       "<style scoped>\n",
       "    .dataframe tbody tr th:only-of-type {\n",
       "        vertical-align: middle;\n",
       "    }\n",
       "\n",
       "    .dataframe tbody tr th {\n",
       "        vertical-align: top;\n",
       "    }\n",
       "\n",
       "    .dataframe thead th {\n",
       "        text-align: right;\n",
       "    }\n",
       "</style>\n",
       "<table border=\"1\" class=\"dataframe\">\n",
       "  <thead>\n",
       "    <tr style=\"text-align: right;\">\n",
       "      <th></th>\n",
       "      <th>Member_number</th>\n",
       "      <th>Date</th>\n",
       "      <th>itemDescription</th>\n",
       "      <th>year</th>\n",
       "      <th>month</th>\n",
       "      <th>day</th>\n",
       "      <th>day_of_week</th>\n",
       "    </tr>\n",
       "  </thead>\n",
       "  <tbody>\n",
       "    <tr>\n",
       "      <th>0</th>\n",
       "      <td>1808</td>\n",
       "      <td>2015-07-21</td>\n",
       "      <td>tropical fruit</td>\n",
       "      <td>2015</td>\n",
       "      <td>7</td>\n",
       "      <td>21</td>\n",
       "      <td>1</td>\n",
       "    </tr>\n",
       "    <tr>\n",
       "      <th>1</th>\n",
       "      <td>2552</td>\n",
       "      <td>2015-05-01</td>\n",
       "      <td>whole milk</td>\n",
       "      <td>2015</td>\n",
       "      <td>5</td>\n",
       "      <td>1</td>\n",
       "      <td>4</td>\n",
       "    </tr>\n",
       "    <tr>\n",
       "      <th>2</th>\n",
       "      <td>2300</td>\n",
       "      <td>2015-09-19</td>\n",
       "      <td>pip fruit</td>\n",
       "      <td>2015</td>\n",
       "      <td>9</td>\n",
       "      <td>19</td>\n",
       "      <td>5</td>\n",
       "    </tr>\n",
       "    <tr>\n",
       "      <th>3</th>\n",
       "      <td>1187</td>\n",
       "      <td>2015-12-12</td>\n",
       "      <td>other vegetables</td>\n",
       "      <td>2015</td>\n",
       "      <td>12</td>\n",
       "      <td>12</td>\n",
       "      <td>5</td>\n",
       "    </tr>\n",
       "    <tr>\n",
       "      <th>4</th>\n",
       "      <td>3037</td>\n",
       "      <td>2015-01-02</td>\n",
       "      <td>whole milk</td>\n",
       "      <td>2015</td>\n",
       "      <td>1</td>\n",
       "      <td>2</td>\n",
       "      <td>4</td>\n",
       "    </tr>\n",
       "    <tr>\n",
       "      <th>...</th>\n",
       "      <td>...</td>\n",
       "      <td>...</td>\n",
       "      <td>...</td>\n",
       "      <td>...</td>\n",
       "      <td>...</td>\n",
       "      <td>...</td>\n",
       "      <td>...</td>\n",
       "    </tr>\n",
       "    <tr>\n",
       "      <th>38760</th>\n",
       "      <td>4471</td>\n",
       "      <td>2014-08-10</td>\n",
       "      <td>sliced cheese</td>\n",
       "      <td>2014</td>\n",
       "      <td>8</td>\n",
       "      <td>10</td>\n",
       "      <td>6</td>\n",
       "    </tr>\n",
       "    <tr>\n",
       "      <th>38761</th>\n",
       "      <td>2022</td>\n",
       "      <td>2014-02-23</td>\n",
       "      <td>candy</td>\n",
       "      <td>2014</td>\n",
       "      <td>2</td>\n",
       "      <td>23</td>\n",
       "      <td>6</td>\n",
       "    </tr>\n",
       "    <tr>\n",
       "      <th>38762</th>\n",
       "      <td>1097</td>\n",
       "      <td>2014-04-16</td>\n",
       "      <td>cake bar</td>\n",
       "      <td>2014</td>\n",
       "      <td>4</td>\n",
       "      <td>16</td>\n",
       "      <td>2</td>\n",
       "    </tr>\n",
       "    <tr>\n",
       "      <th>38763</th>\n",
       "      <td>1510</td>\n",
       "      <td>2014-03-12</td>\n",
       "      <td>fruit/vegetable juice</td>\n",
       "      <td>2014</td>\n",
       "      <td>3</td>\n",
       "      <td>12</td>\n",
       "      <td>2</td>\n",
       "    </tr>\n",
       "    <tr>\n",
       "      <th>38764</th>\n",
       "      <td>1521</td>\n",
       "      <td>2014-12-26</td>\n",
       "      <td>cat food</td>\n",
       "      <td>2014</td>\n",
       "      <td>12</td>\n",
       "      <td>26</td>\n",
       "      <td>4</td>\n",
       "    </tr>\n",
       "  </tbody>\n",
       "</table>\n",
       "<p>37789 rows × 7 columns</p>\n",
       "</div>"
      ],
      "text/plain": [
       "       Member_number        Date        itemDescription  year  month  day  \\\n",
       "0               1808  2015-07-21         tropical fruit  2015      7   21   \n",
       "1               2552  2015-05-01             whole milk  2015      5    1   \n",
       "2               2300  2015-09-19              pip fruit  2015      9   19   \n",
       "3               1187  2015-12-12       other vegetables  2015     12   12   \n",
       "4               3037  2015-01-02             whole milk  2015      1    2   \n",
       "...              ...         ...                    ...   ...    ...  ...   \n",
       "38760           4471  2014-08-10          sliced cheese  2014      8   10   \n",
       "38761           2022  2014-02-23                  candy  2014      2   23   \n",
       "38762           1097  2014-04-16               cake bar  2014      4   16   \n",
       "38763           1510  2014-03-12  fruit/vegetable juice  2014      3   12   \n",
       "38764           1521  2014-12-26               cat food  2014     12   26   \n",
       "\n",
       "       day_of_week  \n",
       "0                1  \n",
       "1                4  \n",
       "2                5  \n",
       "3                5  \n",
       "4                4  \n",
       "...            ...  \n",
       "38760            6  \n",
       "38761            6  \n",
       "38762            2  \n",
       "38763            2  \n",
       "38764            4  \n",
       "\n",
       "[37789 rows x 7 columns]"
      ]
     },
     "execution_count": 192,
     "metadata": {},
     "output_type": "execute_result"
    }
   ],
   "source": [
    "grouped_grocery_df = grocery_df.groupby(['Member_number', 'Date'])\n",
    "grouped_grocery_df.head()"
   ]
  },
  {
   "cell_type": "code",
   "execution_count": 195,
   "id": "e73b3f12",
   "metadata": {},
   "outputs": [],
   "source": [
    "transactions = [list(grocery_df[(grocery_df['Member_number'] == i[0]) & (grocery_df['Date'] == i[1])].itemDescription) for i in zip(all_members,all_dates)]"
   ]
  },
  {
   "cell_type": "code",
   "execution_count": 196,
   "id": "6454f461",
   "metadata": {},
   "outputs": [
    {
     "data": {
      "text/plain": [
       "38765"
      ]
     },
     "execution_count": 196,
     "metadata": {},
     "output_type": "execute_result"
    }
   ],
   "source": [
    "len(transactions)"
   ]
  },
  {
   "cell_type": "code",
   "execution_count": 197,
   "id": "abbbc6ce",
   "metadata": {},
   "outputs": [
    {
     "data": {
      "text/plain": [
       "[['tropical fruit', 'rolls/buns', 'candy'],\n",
       " ['whole milk', 'tropical fruit', 'chocolate'],\n",
       " ['pip fruit', 'other vegetables', 'flour'],\n",
       " ['other vegetables', 'onions', 'shopping bags'],\n",
       " ['whole milk', 'other vegetables', 'white bread']]"
      ]
     },
     "execution_count": 197,
     "metadata": {},
     "output_type": "execute_result"
    }
   ],
   "source": [
    "transactions[:5]"
   ]
  },
  {
   "cell_type": "code",
   "execution_count": 193,
   "id": "f0d63d3a",
   "metadata": {},
   "outputs": [
    {
     "name": "stdout",
     "output_type": "stream",
     "text": [
      "1000 2014-06-24\n",
      "       Member_number        Date itemDescription  year  month  day  \\\n",
      "13331           1000  2014-06-24      whole milk  2014      6   24   \n",
      "29480           1000  2014-06-24          pastry  2014      6   24   \n",
      "32851           1000  2014-06-24     salty snack  2014      6   24   \n",
      "\n",
      "       day_of_week  \n",
      "13331            1  \n",
      "29480            1  \n",
      "32851            1  \n"
     ]
    }
   ],
   "source": [
    "for (member, date), group_data in grouped_grocery_df:\n",
    "    print(member, date)\n",
    "    print(group_data)\n",
    "    break"
   ]
  },
  {
   "cell_type": "code",
   "execution_count": 194,
   "id": "acdaee8c",
   "metadata": {},
   "outputs": [
    {
     "data": {
      "text/plain": [
       "14963"
      ]
     },
     "execution_count": 194,
     "metadata": {},
     "output_type": "execute_result"
    }
   ],
   "source": [
    "len(grouped_grocery_df)"
   ]
  },
  {
   "cell_type": "code",
   "execution_count": 198,
   "id": "7722c0ce",
   "metadata": {},
   "outputs": [],
   "source": [
    "# Initialize an empty list to store item descriptions for each member-date combination\n",
    "transformed_data = []\n",
    "\n",
    "# Iterate through the zip of all_members and all_dates\n",
    "for i in zip(all_members, all_dates):\n",
    "    # Filter grocery_df based on Member Number and Date\n",
    "    filtered_df = grocery_df[(grocery_df['Member_number'] == i[0]) & (grocery_df['Date'] == i[1])]\n",
    "    \n",
    "    # Extract itemDescription from filtered DataFrame and convert it to a list\n",
    "    item_descriptions = list(filtered_df['itemDescription'])\n",
    "    \n",
    "    # Append the list of item descriptions to the transactions list\n",
    "    transformed_data.append(item_descriptions)"
   ]
  },
  {
   "cell_type": "code",
   "execution_count": 199,
   "id": "7124f6bc",
   "metadata": {},
   "outputs": [
    {
     "data": {
      "text/plain": [
       "38765"
      ]
     },
     "execution_count": 199,
     "metadata": {},
     "output_type": "execute_result"
    }
   ],
   "source": [
    "len(transformed_data)"
   ]
  },
  {
   "cell_type": "code",
   "execution_count": 200,
   "id": "0bb3af8b",
   "metadata": {},
   "outputs": [
    {
     "data": {
      "text/plain": [
       "[['tropical fruit', 'rolls/buns', 'candy'],\n",
       " ['whole milk', 'tropical fruit', 'chocolate'],\n",
       " ['pip fruit', 'other vegetables', 'flour']]"
      ]
     },
     "execution_count": 200,
     "metadata": {},
     "output_type": "execute_result"
    }
   ],
   "source": [
    "transformed_data[:3]"
   ]
  },
  {
   "cell_type": "code",
   "execution_count": 201,
   "id": "15a4cf69",
   "metadata": {},
   "outputs": [],
   "source": [
    "from itertools import permutations"
   ]
  },
  {
   "cell_type": "code",
   "execution_count": 202,
   "id": "e5ddaab2",
   "metadata": {},
   "outputs": [],
   "source": [
    "a = np.random.randn(1,4)"
   ]
  },
  {
   "cell_type": "code",
   "execution_count": 203,
   "id": "2fc5b587",
   "metadata": {},
   "outputs": [],
   "source": [
    "# ab = list(permutations([t for data in transformed_data for t in data], 2))\n"
   ]
  },
  {
   "cell_type": "code",
   "execution_count": 204,
   "id": "cd9bab5e",
   "metadata": {},
   "outputs": [
    {
     "data": {
      "text/plain": [
       "119113"
      ]
     },
     "execution_count": 204,
     "metadata": {},
     "output_type": "execute_result"
    }
   ],
   "source": [
    "flat_list = [i for row in transformed_data for i in row]\n",
    "len(flat_list)"
   ]
  },
  {
   "cell_type": "code",
   "execution_count": 205,
   "id": "a5e1f683",
   "metadata": {},
   "outputs": [
    {
     "data": {
      "text/plain": [
       "167"
      ]
     },
     "execution_count": 205,
     "metadata": {},
     "output_type": "execute_result"
    }
   ],
   "source": [
    "flat_set = list(set(flat_list))\n",
    "len(flat_set)"
   ]
  },
  {
   "cell_type": "code",
   "execution_count": 206,
   "id": "175c304a",
   "metadata": {},
   "outputs": [
    {
     "data": {
      "text/plain": [
       "27722"
      ]
     },
     "execution_count": 206,
     "metadata": {},
     "output_type": "execute_result"
    }
   ],
   "source": [
    "#167P2 = 27722\n",
    "rules_ = list(permutations(flat_set, 2))\n",
    "len(rules_)"
   ]
  },
  {
   "cell_type": "code",
   "execution_count": 207,
   "id": "f871da42",
   "metadata": {},
   "outputs": [
    {
     "data": {
      "text/plain": [
       "[('dishes', 'frozen chicken'),\n",
       " ('dishes', 'pasta'),\n",
       " ('dishes', 'napkins'),\n",
       " ('dishes', 'canned fish'),\n",
       " ('dishes', 'sparkling wine')]"
      ]
     },
     "execution_count": 207,
     "metadata": {},
     "output_type": "execute_result"
    }
   ],
   "source": [
    "rules_[:5]"
   ]
  },
  {
   "cell_type": "code",
   "execution_count": 208,
   "id": "390764d1",
   "metadata": {},
   "outputs": [
    {
     "name": "stdout",
     "output_type": "stream",
     "text": [
      "['tropical fruit', 'rolls/buns', 'candy']\n"
     ]
    }
   ],
   "source": [
    "print(transformed_data[0])\n",
    "#seeing which combo occurs the most among the 167 separate items\n",
    "temp_list = []\n",
    "for i in transformed_data:\n",
    "    temp_list.append(tuple(i))"
   ]
  },
  {
   "cell_type": "code",
   "execution_count": 209,
   "id": "a6b9ff84",
   "metadata": {},
   "outputs": [],
   "source": [
    "from collections import Counter"
   ]
  },
  {
   "cell_type": "code",
   "execution_count": 210,
   "id": "829e3a94",
   "metadata": {},
   "outputs": [
    {
     "data": {
      "text/plain": [
       "[(('other vegetables', 'whole milk'), 96),\n",
       " (('whole milk', 'whole milk'), 80),\n",
       " (('whole milk', 'rolls/buns'), 76),\n",
       " (('sausage', 'whole milk'), 74),\n",
       " (('whole milk', 'other vegetables'), 74),\n",
       " (('citrus fruit', 'whole milk'), 64)]"
      ]
     },
     "execution_count": 210,
     "metadata": {},
     "output_type": "execute_result"
    }
   ],
   "source": [
    "Counter(temp_list).most_common(6)"
   ]
  },
  {
   "cell_type": "code",
   "execution_count": 211,
   "id": "0644729a",
   "metadata": {},
   "outputs": [
    {
     "name": "stdout",
     "output_type": "stream",
     "text": [
      "[('tropical fruit', 'rolls/buns', 'candy'), ('whole milk', 'tropical fruit', 'chocolate'), ('pip fruit', 'other vegetables', 'flour'), ('other vegetables', 'onions', 'shopping bags'), ('whole milk', 'other vegetables', 'white bread')]\n"
     ]
    }
   ],
   "source": [
    "#computing antecedent support, consequent support, support, confidence, lift\n",
    "print(temp_list[:5])"
   ]
  },
  {
   "cell_type": "code",
   "execution_count": 212,
   "id": "bdcb62fe",
   "metadata": {},
   "outputs": [],
   "source": [
    "import mlxtend"
   ]
  },
  {
   "cell_type": "code",
   "execution_count": null,
   "id": "7f04ebb7",
   "metadata": {},
   "outputs": [],
   "source": []
  },
  {
   "cell_type": "code",
   "execution_count": 213,
   "id": "f7b193b2",
   "metadata": {},
   "outputs": [
    {
     "name": "stdout",
     "output_type": "stream",
     "text": [
      "     support                      itemsets\n",
      "0   0.024532                    (UHT-milk)\n",
      "1   0.039623                        (beef)\n",
      "2   0.024739                     (berries)\n",
      "3   0.019347                   (beverages)\n",
      "4   0.054740                (bottled beer)\n",
      "..       ...                           ...\n",
      "84  0.015246         (whole milk, sausage)\n",
      "85  0.010215             (yogurt, sausage)\n",
      "86  0.018522            (whole milk, soda)\n",
      "87  0.012924  (whole milk, tropical fruit)\n",
      "88  0.018677          (yogurt, whole milk)\n",
      "\n",
      "[89 rows x 2 columns]\n"
     ]
    }
   ],
   "source": [
    "from mlxtend.preprocessing import TransactionEncoder\n",
    "from mlxtend.frequent_patterns import apriori, fpmax, fpgrowth, association_rules\n",
    "\n",
    "te = TransactionEncoder()\n",
    "te_ary = te.fit(transformed_data).transform(transformed_data)\n",
    "df = pd.DataFrame(te_ary, columns=te.columns_)\n",
    "\n",
    "# frequent_itemsets = fpgrowth(df, min_support=0.01, use_colnames=True)\n",
    "### alternatively:\n",
    "frequent_itemsets = apriori(df, min_support=0.01, max_len=2,use_colnames=True)\n",
    "#frequent_itemsets = fpmax(df, min_support=0.6, use_colnames=True)\n",
    "\n",
    "print(frequent_itemsets)"
   ]
  },
  {
   "cell_type": "code",
   "execution_count": 214,
   "id": "9ff75317",
   "metadata": {},
   "outputs": [
    {
     "data": {
      "text/plain": [
       "38765"
      ]
     },
     "execution_count": 214,
     "metadata": {},
     "output_type": "execute_result"
    }
   ],
   "source": [
    "len(df)"
   ]
  },
  {
   "cell_type": "code",
   "execution_count": 215,
   "id": "fe5d919f",
   "metadata": {},
   "outputs": [
    {
     "data": {
      "text/plain": [
       "0.02453243905584935"
      ]
     },
     "execution_count": 215,
     "metadata": {},
     "output_type": "execute_result"
    }
   ],
   "source": [
    "df['UHT-milk'].mean()"
   ]
  },
  {
   "cell_type": "code",
   "execution_count": 216,
   "id": "b274509d",
   "metadata": {},
   "outputs": [
    {
     "name": "stdout",
     "output_type": "stream",
     "text": [
      "       antecedents      consequents  antecedent support  consequent support  \\\n",
      "0     (whole milk)   (bottled beer)            0.183748            0.054740   \n",
      "1   (bottled beer)     (whole milk)            0.054740            0.183748   \n",
      "2     (whole milk)  (bottled water)            0.183748            0.069496   \n",
      "3  (bottled water)     (whole milk)            0.069496            0.183748   \n",
      "4   (citrus fruit)     (whole milk)            0.060647            0.183748   \n",
      "\n",
      "    support  confidence      lift  leverage  conviction  zhangs_metric  \n",
      "0  0.010602    0.057700  1.054079  0.000544    1.003142       0.062854  \n",
      "1  0.010602    0.193685  1.054079  0.000544    1.012324       0.054276  \n",
      "2  0.010473    0.056998  0.820173 -0.002296    0.986747      -0.211737  \n",
      "3  0.010473    0.150705  0.820173 -0.002296    0.961094      -0.190697  \n",
      "4  0.011247    0.185453  1.009278  0.000103    1.002093       0.009786  \n"
     ]
    }
   ],
   "source": [
    "rules = association_rules(frequent_itemsets,metric = \"support\",min_threshold = 0.0)\n",
    "print(rules.head())"
   ]
  },
  {
   "cell_type": "markdown",
   "id": "aa669b8a",
   "metadata": {},
   "source": [
    "# computing them without the use of Library"
   ]
  },
  {
   "cell_type": "code",
   "execution_count": null,
   "id": "3cf6c82e",
   "metadata": {},
   "outputs": [],
   "source": []
  },
  {
   "cell_type": "code",
   "execution_count": 217,
   "id": "6d887e5f",
   "metadata": {},
   "outputs": [
    {
     "data": {
      "text/plain": [
       "([('syrup', 'curd cheese'),\n",
       "  ('syrup', 'cookware'),\n",
       "  ('syrup', 'salty snack'),\n",
       "  ('syrup', 'herbs')],\n",
       " [('soap', 'semi-finished bread'),\n",
       "  ('soap', 'dish cleaner'),\n",
       "  ('soap', 'pastry'),\n",
       "  ('soap', 'chocolate marshmallow'),\n",
       "  ('soap', 'packaged fruit/vegetables'),\n",
       "  ('soap', 'frozen dessert'),\n",
       "  ('soap', 'organic sausage'),\n",
       "  ('soap', 'coffee')],\n",
       " 27722)"
      ]
     },
     "execution_count": 217,
     "metadata": {},
     "output_type": "execute_result"
    }
   ],
   "source": [
    "rules_[1231:1235], rules_[2312:2320], len(rules_)"
   ]
  },
  {
   "cell_type": "code",
   "execution_count": null,
   "id": "026fca90",
   "metadata": {},
   "outputs": [],
   "source": []
  },
  {
   "cell_type": "code",
   "execution_count": 218,
   "id": "401cb2c2",
   "metadata": {},
   "outputs": [
    {
     "data": {
      "text/plain": [
       "38765"
      ]
     },
     "execution_count": 218,
     "metadata": {},
     "output_type": "execute_result"
    }
   ],
   "source": [
    "len(transformed_data)"
   ]
  },
  {
   "cell_type": "code",
   "execution_count": 219,
   "id": "63caf109",
   "metadata": {},
   "outputs": [
    {
     "data": {
      "text/plain": [
       "[['tropical fruit', 'rolls/buns', 'candy'],\n",
       " ['whole milk', 'tropical fruit', 'chocolate'],\n",
       " ['pip fruit', 'other vegetables', 'flour'],\n",
       " ['other vegetables', 'onions', 'shopping bags'],\n",
       " ['whole milk', 'other vegetables', 'white bread'],\n",
       " ['rolls/buns', 'citrus fruit', 'fruit/vegetable juice'],\n",
       " ['other vegetables', 'bottled water', 'shopping bags'],\n",
       " ['pot plants', 'citrus fruit', 'whipped/sour cream'],\n",
       " ['whole milk', 'specialty bar', 'newspapers'],\n",
       " ['tropical fruit', 'citrus fruit', 'soda']]"
      ]
     },
     "execution_count": 219,
     "metadata": {},
     "output_type": "execute_result"
    }
   ],
   "source": [
    "transformed_data[:10]"
   ]
  },
  {
   "cell_type": "code",
   "execution_count": 220,
   "id": "72669d2e",
   "metadata": {},
   "outputs": [
    {
     "data": {
      "text/plain": [
       "167"
      ]
     },
     "execution_count": 220,
     "metadata": {},
     "output_type": "execute_result"
    }
   ],
   "source": [
    "flattened_transformed_data = [item for sublist in transformed_data for item in sublist]\n",
    "unique_data = set(flattened_transformed_data)\n",
    "len(unique_data)"
   ]
  },
  {
   "cell_type": "code",
   "execution_count": 221,
   "id": "aad408f5",
   "metadata": {},
   "outputs": [],
   "source": [
    "#computing support for individual elements with the total elements in dataset\n",
    "transformed_data_sets = [set(t) for t in transformed_data]\n",
    "indv_rules = Counter()\n",
    "for single_data in unique_data:\n",
    "    for transaction in transformed_data_sets:\n",
    "        if single_data in transaction:\n",
    "            indv_rules[str(single_data)] += 1"
   ]
  },
  {
   "cell_type": "code",
   "execution_count": 222,
   "id": "dbc57b57",
   "metadata": {},
   "outputs": [
    {
     "data": {
      "text/html": [
       "<div>\n",
       "<style scoped>\n",
       "    .dataframe tbody tr th:only-of-type {\n",
       "        vertical-align: middle;\n",
       "    }\n",
       "\n",
       "    .dataframe tbody tr th {\n",
       "        vertical-align: top;\n",
       "    }\n",
       "\n",
       "    .dataframe thead th {\n",
       "        text-align: right;\n",
       "    }\n",
       "</style>\n",
       "<table border=\"1\" class=\"dataframe\">\n",
       "  <thead>\n",
       "    <tr style=\"text-align: right;\">\n",
       "      <th></th>\n",
       "      <th>Count</th>\n",
       "    </tr>\n",
       "  </thead>\n",
       "  <tbody>\n",
       "    <tr>\n",
       "      <th>count</th>\n",
       "      <td>167.000000</td>\n",
       "    </tr>\n",
       "    <tr>\n",
       "      <th>mean</th>\n",
       "      <td>693.449102</td>\n",
       "    </tr>\n",
       "    <tr>\n",
       "      <th>std</th>\n",
       "      <td>1053.442210</td>\n",
       "    </tr>\n",
       "    <tr>\n",
       "      <th>min</th>\n",
       "      <td>2.000000</td>\n",
       "    </tr>\n",
       "    <tr>\n",
       "      <th>25%</th>\n",
       "      <td>96.500000</td>\n",
       "    </tr>\n",
       "    <tr>\n",
       "      <th>50%</th>\n",
       "      <td>254.000000</td>\n",
       "    </tr>\n",
       "    <tr>\n",
       "      <th>75%</th>\n",
       "      <td>809.500000</td>\n",
       "    </tr>\n",
       "    <tr>\n",
       "      <th>max</th>\n",
       "      <td>7123.000000</td>\n",
       "    </tr>\n",
       "  </tbody>\n",
       "</table>\n",
       "</div>"
      ],
      "text/plain": [
       "             Count\n",
       "count   167.000000\n",
       "mean    693.449102\n",
       "std    1053.442210\n",
       "min       2.000000\n",
       "25%      96.500000\n",
       "50%     254.000000\n",
       "75%     809.500000\n",
       "max    7123.000000"
      ]
     },
     "execution_count": 222,
     "metadata": {},
     "output_type": "execute_result"
    }
   ],
   "source": [
    "df_indv = pd.DataFrame(list(indv_rules.items()), columns=['Item', 'Count'])\n",
    "df_indv.describe()"
   ]
  },
  {
   "cell_type": "code",
   "execution_count": 225,
   "id": "9a2feb79",
   "metadata": {},
   "outputs": [
    {
     "data": {
      "text/html": [
       "<div>\n",
       "<style scoped>\n",
       "    .dataframe tbody tr th:only-of-type {\n",
       "        vertical-align: middle;\n",
       "    }\n",
       "\n",
       "    .dataframe tbody tr th {\n",
       "        vertical-align: top;\n",
       "    }\n",
       "\n",
       "    .dataframe thead th {\n",
       "        text-align: right;\n",
       "    }\n",
       "</style>\n",
       "<table border=\"1\" class=\"dataframe\">\n",
       "  <thead>\n",
       "    <tr style=\"text-align: right;\">\n",
       "      <th></th>\n",
       "      <th>Item</th>\n",
       "      <th>Count</th>\n",
       "      <th>Support</th>\n",
       "    </tr>\n",
       "  </thead>\n",
       "  <tbody>\n",
       "    <tr>\n",
       "      <th>127</th>\n",
       "      <td>whole milk</td>\n",
       "      <td>7123</td>\n",
       "      <td>0.183748</td>\n",
       "    </tr>\n",
       "    <tr>\n",
       "      <th>36</th>\n",
       "      <td>other vegetables</td>\n",
       "      <td>5337</td>\n",
       "      <td>0.137676</td>\n",
       "    </tr>\n",
       "    <tr>\n",
       "      <th>95</th>\n",
       "      <td>rolls/buns</td>\n",
       "      <td>4960</td>\n",
       "      <td>0.127950</td>\n",
       "    </tr>\n",
       "    <tr>\n",
       "      <th>166</th>\n",
       "      <td>soda</td>\n",
       "      <td>4352</td>\n",
       "      <td>0.112266</td>\n",
       "    </tr>\n",
       "    <tr>\n",
       "      <th>138</th>\n",
       "      <td>yogurt</td>\n",
       "      <td>3932</td>\n",
       "      <td>0.101432</td>\n",
       "    </tr>\n",
       "  </tbody>\n",
       "</table>\n",
       "</div>"
      ],
      "text/plain": [
       "                 Item  Count   Support\n",
       "127        whole milk   7123  0.183748\n",
       "36   other vegetables   5337  0.137676\n",
       "95         rolls/buns   4960  0.127950\n",
       "166              soda   4352  0.112266\n",
       "138            yogurt   3932  0.101432"
      ]
     },
     "execution_count": 225,
     "metadata": {},
     "output_type": "execute_result"
    }
   ],
   "source": [
    "df_indv['Support'] = df_indv['Count']/len(transformed_data)\n",
    "df_indv = df_indv.sort_values(by='Support', ascending=False)\n",
    "df_indv.head()"
   ]
  },
  {
   "cell_type": "code",
   "execution_count": 226,
   "id": "5aa7ef1a",
   "metadata": {},
   "outputs": [
    {
     "data": {
      "text/plain": [
       "0.03962337159809106"
      ]
     },
     "execution_count": 226,
     "metadata": {},
     "output_type": "execute_result"
    }
   ],
   "source": [
    "beer_df = df_indv.loc[df_indv['Item']=='beef', 'Support'].values[0]\n",
    "beer_df\n",
    "#beer support matches with the one from apriori function above!!!"
   ]
  },
  {
   "cell_type": "code",
   "execution_count": 227,
   "id": "eb52e518",
   "metadata": {},
   "outputs": [],
   "source": [
    "Individual_elements_Support_df = df_indv"
   ]
  },
  {
   "cell_type": "code",
   "execution_count": 228,
   "id": "5a93ccca",
   "metadata": {},
   "outputs": [],
   "source": [
    "def indv_support(item, indv_df):\n",
    "    return indv_df.loc[indv_df['Item']==item, 'Support'].values[0]"
   ]
  },
  {
   "cell_type": "code",
   "execution_count": 229,
   "id": "c76cdd92",
   "metadata": {},
   "outputs": [
    {
     "data": {
      "text/plain": [
       "0.02453243905584935"
      ]
     },
     "execution_count": 229,
     "metadata": {},
     "output_type": "execute_result"
    }
   ],
   "source": [
    "indv_support('UHT-milk', Individual_elements_Support_df)"
   ]
  },
  {
   "cell_type": "code",
   "execution_count": 230,
   "id": "85a31cbd",
   "metadata": {},
   "outputs": [
    {
     "data": {
      "text/plain": [
       "38765"
      ]
     },
     "execution_count": 230,
     "metadata": {},
     "output_type": "execute_result"
    }
   ],
   "source": [
    "len(transformed_data_sets)"
   ]
  },
  {
   "cell_type": "code",
   "execution_count": 231,
   "id": "bc13ec9a",
   "metadata": {},
   "outputs": [],
   "source": [
    "transformed_data_sets = [set(t) for t in transformed_data]\n",
    "\n",
    "# Create a Counter for each itemset combination\n",
    "rules_count = Counter()\n",
    "\n",
    "for combo in rules_:\n",
    "    combo_set = set(combo)\n",
    "    for transaction in transformed_data_sets:\n",
    "        if combo_set.issubset(transaction):\n",
    "            rules_count[str(combo)] += 1\n",
    "\n",
    "# Convert Counter to a list of tuples for the counts\n",
    "rules_count = [[eval(key), value] for key, value in rules_count.items()]"
   ]
  },
  {
   "cell_type": "code",
   "execution_count": 232,
   "id": "83da2228",
   "metadata": {},
   "outputs": [
    {
     "data": {
      "text/plain": [
       "[{'candy', 'rolls/buns', 'tropical fruit'},\n",
       " {'chocolate', 'tropical fruit', 'whole milk'},\n",
       " {'flour', 'other vegetables', 'pip fruit'},\n",
       " {'onions', 'other vegetables', 'shopping bags'},\n",
       " {'other vegetables', 'white bread', 'whole milk'}]"
      ]
     },
     "execution_count": 232,
     "metadata": {},
     "output_type": "execute_result"
    }
   ],
   "source": [
    "transformed_data_sets[:5]"
   ]
  },
  {
   "cell_type": "code",
   "execution_count": 233,
   "id": "1e5e2746",
   "metadata": {},
   "outputs": [
    {
     "data": {
      "text/plain": [
       "12520"
      ]
     },
     "execution_count": 233,
     "metadata": {},
     "output_type": "execute_result"
    }
   ],
   "source": [
    "len(rules_count)"
   ]
  },
  {
   "cell_type": "code",
   "execution_count": 234,
   "id": "fb359f8c",
   "metadata": {
    "scrolled": true
   },
   "outputs": [
    {
     "data": {
      "text/plain": [
       "\"ratio_count = []\\nfor i,each_combo in enumerate(rules_[:1000]):\\n    num=0\\n    for t in transformed_data:\\n        if(str(each_combo[0]) in t and str(each_combo[1]) in t):\\n            num+=1\\n    ratio_count.append([each_combo, num])\\n    print(f'{len(rules_)-i} remains')\\n    \\n\""
      ]
     },
     "execution_count": 234,
     "metadata": {},
     "output_type": "execute_result"
    }
   ],
   "source": [
    "#the above code is more dynamic with the use of a set rather than list\n",
    "# time complexity is reduced\n",
    "\"\"\"ratio_count = []\n",
    "for i,each_combo in enumerate(rules_[:1000]):\n",
    "    num=0\n",
    "    for t in transformed_data:\n",
    "        if(str(each_combo[0]) in t and str(each_combo[1]) in t):\n",
    "            num+=1\n",
    "    ratio_count.append([each_combo, num])\n",
    "    print(f'{len(rules_)-i} remains')\n",
    "    \n",
    "\"\"\"\n"
   ]
  },
  {
   "cell_type": "code",
   "execution_count": null,
   "id": "6848ec6f",
   "metadata": {},
   "outputs": [],
   "source": []
  },
  {
   "cell_type": "code",
   "execution_count": 235,
   "id": "a7ebd289",
   "metadata": {},
   "outputs": [],
   "source": [
    "flattened_count = [(pair[0], pair[1], count) for pair, count in rules_count]"
   ]
  },
  {
   "cell_type": "code",
   "execution_count": 236,
   "id": "258fd1a7",
   "metadata": {
    "scrolled": false
   },
   "outputs": [
    {
     "data": {
      "text/html": [
       "<div>\n",
       "<style scoped>\n",
       "    .dataframe tbody tr th:only-of-type {\n",
       "        vertical-align: middle;\n",
       "    }\n",
       "\n",
       "    .dataframe tbody tr th {\n",
       "        vertical-align: top;\n",
       "    }\n",
       "\n",
       "    .dataframe thead th {\n",
       "        text-align: right;\n",
       "    }\n",
       "</style>\n",
       "<table border=\"1\" class=\"dataframe\">\n",
       "  <thead>\n",
       "    <tr style=\"text-align: right;\">\n",
       "      <th></th>\n",
       "      <th>Antecedent</th>\n",
       "      <th>Precedent</th>\n",
       "      <th>Occurence</th>\n",
       "    </tr>\n",
       "  </thead>\n",
       "  <tbody>\n",
       "    <tr>\n",
       "      <th>2469</th>\n",
       "      <td>other vegetables</td>\n",
       "      <td>whole milk</td>\n",
       "      <td>866</td>\n",
       "    </tr>\n",
       "    <tr>\n",
       "      <th>9030</th>\n",
       "      <td>whole milk</td>\n",
       "      <td>other vegetables</td>\n",
       "      <td>866</td>\n",
       "    </tr>\n",
       "    <tr>\n",
       "      <th>9084</th>\n",
       "      <td>whole milk</td>\n",
       "      <td>rolls/buns</td>\n",
       "      <td>862</td>\n",
       "    </tr>\n",
       "    <tr>\n",
       "      <th>6321</th>\n",
       "      <td>rolls/buns</td>\n",
       "      <td>whole milk</td>\n",
       "      <td>862</td>\n",
       "    </tr>\n",
       "    <tr>\n",
       "      <th>9124</th>\n",
       "      <td>whole milk</td>\n",
       "      <td>yogurt</td>\n",
       "      <td>724</td>\n",
       "    </tr>\n",
       "  </tbody>\n",
       "</table>\n",
       "</div>"
      ],
      "text/plain": [
       "            Antecedent         Precedent  Occurence\n",
       "2469  other vegetables        whole milk        866\n",
       "9030        whole milk  other vegetables        866\n",
       "9084        whole milk        rolls/buns        862\n",
       "6321        rolls/buns        whole milk        862\n",
       "9124        whole milk            yogurt        724"
      ]
     },
     "execution_count": 236,
     "metadata": {},
     "output_type": "execute_result"
    }
   ],
   "source": [
    "result_df = pd.DataFrame(flattened_count, columns = ['Antecedent', 'Precedent', 'Occurence'])\n",
    "result_df = result_df.sort_values(by='Occurence', ascending=False)\n",
    "result_df.head()"
   ]
  },
  {
   "cell_type": "code",
   "execution_count": 237,
   "id": "06244e25",
   "metadata": {
    "scrolled": false
   },
   "outputs": [
    {
     "data": {
      "text/html": [
       "<div>\n",
       "<style scoped>\n",
       "    .dataframe tbody tr th:only-of-type {\n",
       "        vertical-align: middle;\n",
       "    }\n",
       "\n",
       "    .dataframe tbody tr th {\n",
       "        vertical-align: top;\n",
       "    }\n",
       "\n",
       "    .dataframe thead th {\n",
       "        text-align: right;\n",
       "    }\n",
       "</style>\n",
       "<table border=\"1\" class=\"dataframe\">\n",
       "  <thead>\n",
       "    <tr style=\"text-align: right;\">\n",
       "      <th></th>\n",
       "      <th>Antecedent</th>\n",
       "      <th>Precedent</th>\n",
       "      <th>Occurence</th>\n",
       "      <th>Support</th>\n",
       "    </tr>\n",
       "  </thead>\n",
       "  <tbody>\n",
       "    <tr>\n",
       "      <th>2469</th>\n",
       "      <td>other vegetables</td>\n",
       "      <td>whole milk</td>\n",
       "      <td>866</td>\n",
       "      <td>0.022340</td>\n",
       "    </tr>\n",
       "    <tr>\n",
       "      <th>9030</th>\n",
       "      <td>whole milk</td>\n",
       "      <td>other vegetables</td>\n",
       "      <td>866</td>\n",
       "      <td>0.022340</td>\n",
       "    </tr>\n",
       "    <tr>\n",
       "      <th>9084</th>\n",
       "      <td>whole milk</td>\n",
       "      <td>rolls/buns</td>\n",
       "      <td>862</td>\n",
       "      <td>0.022237</td>\n",
       "    </tr>\n",
       "    <tr>\n",
       "      <th>6321</th>\n",
       "      <td>rolls/buns</td>\n",
       "      <td>whole milk</td>\n",
       "      <td>862</td>\n",
       "      <td>0.022237</td>\n",
       "    </tr>\n",
       "    <tr>\n",
       "      <th>9124</th>\n",
       "      <td>whole milk</td>\n",
       "      <td>yogurt</td>\n",
       "      <td>724</td>\n",
       "      <td>0.018677</td>\n",
       "    </tr>\n",
       "    <tr>\n",
       "      <th>10150</th>\n",
       "      <td>yogurt</td>\n",
       "      <td>whole milk</td>\n",
       "      <td>724</td>\n",
       "      <td>0.018677</td>\n",
       "    </tr>\n",
       "    <tr>\n",
       "      <th>12482</th>\n",
       "      <td>soda</td>\n",
       "      <td>whole milk</td>\n",
       "      <td>718</td>\n",
       "      <td>0.018522</td>\n",
       "    </tr>\n",
       "    <tr>\n",
       "      <th>9151</th>\n",
       "      <td>whole milk</td>\n",
       "      <td>soda</td>\n",
       "      <td>718</td>\n",
       "      <td>0.018522</td>\n",
       "    </tr>\n",
       "    <tr>\n",
       "      <th>2438</th>\n",
       "      <td>other vegetables</td>\n",
       "      <td>rolls/buns</td>\n",
       "      <td>624</td>\n",
       "      <td>0.016097</td>\n",
       "    </tr>\n",
       "    <tr>\n",
       "      <th>6240</th>\n",
       "      <td>rolls/buns</td>\n",
       "      <td>other vegetables</td>\n",
       "      <td>624</td>\n",
       "      <td>0.016097</td>\n",
       "    </tr>\n",
       "    <tr>\n",
       "      <th>9027</th>\n",
       "      <td>whole milk</td>\n",
       "      <td>sausage</td>\n",
       "      <td>591</td>\n",
       "      <td>0.015246</td>\n",
       "    </tr>\n",
       "    <tr>\n",
       "      <th>2211</th>\n",
       "      <td>sausage</td>\n",
       "      <td>whole milk</td>\n",
       "      <td>591</td>\n",
       "      <td>0.015246</td>\n",
       "    </tr>\n",
       "    <tr>\n",
       "      <th>12400</th>\n",
       "      <td>soda</td>\n",
       "      <td>other vegetables</td>\n",
       "      <td>549</td>\n",
       "      <td>0.014162</td>\n",
       "    </tr>\n",
       "    <tr>\n",
       "      <th>2507</th>\n",
       "      <td>other vegetables</td>\n",
       "      <td>soda</td>\n",
       "      <td>549</td>\n",
       "      <td>0.014162</td>\n",
       "    </tr>\n",
       "    <tr>\n",
       "      <th>9040</th>\n",
       "      <td>whole milk</td>\n",
       "      <td>tropical fruit</td>\n",
       "      <td>501</td>\n",
       "      <td>0.012924</td>\n",
       "    </tr>\n",
       "    <tr>\n",
       "      <th>3215</th>\n",
       "      <td>tropical fruit</td>\n",
       "      <td>whole milk</td>\n",
       "      <td>501</td>\n",
       "      <td>0.012924</td>\n",
       "    </tr>\n",
       "    <tr>\n",
       "      <th>10123</th>\n",
       "      <td>yogurt</td>\n",
       "      <td>rolls/buns</td>\n",
       "      <td>490</td>\n",
       "      <td>0.012640</td>\n",
       "    </tr>\n",
       "    <tr>\n",
       "      <th>6332</th>\n",
       "      <td>rolls/buns</td>\n",
       "      <td>yogurt</td>\n",
       "      <td>490</td>\n",
       "      <td>0.012640</td>\n",
       "    </tr>\n",
       "    <tr>\n",
       "      <th>2480</th>\n",
       "      <td>other vegetables</td>\n",
       "      <td>yogurt</td>\n",
       "      <td>488</td>\n",
       "      <td>0.012589</td>\n",
       "    </tr>\n",
       "    <tr>\n",
       "      <th>10072</th>\n",
       "      <td>yogurt</td>\n",
       "      <td>other vegetables</td>\n",
       "      <td>488</td>\n",
       "      <td>0.012589</td>\n",
       "    </tr>\n",
       "  </tbody>\n",
       "</table>\n",
       "</div>"
      ],
      "text/plain": [
       "             Antecedent         Precedent  Occurence   Support\n",
       "2469   other vegetables        whole milk        866  0.022340\n",
       "9030         whole milk  other vegetables        866  0.022340\n",
       "9084         whole milk        rolls/buns        862  0.022237\n",
       "6321         rolls/buns        whole milk        862  0.022237\n",
       "9124         whole milk            yogurt        724  0.018677\n",
       "10150            yogurt        whole milk        724  0.018677\n",
       "12482              soda        whole milk        718  0.018522\n",
       "9151         whole milk              soda        718  0.018522\n",
       "2438   other vegetables        rolls/buns        624  0.016097\n",
       "6240         rolls/buns  other vegetables        624  0.016097\n",
       "9027         whole milk           sausage        591  0.015246\n",
       "2211            sausage        whole milk        591  0.015246\n",
       "12400              soda  other vegetables        549  0.014162\n",
       "2507   other vegetables              soda        549  0.014162\n",
       "9040         whole milk    tropical fruit        501  0.012924\n",
       "3215     tropical fruit        whole milk        501  0.012924\n",
       "10123            yogurt        rolls/buns        490  0.012640\n",
       "6332         rolls/buns            yogurt        490  0.012640\n",
       "2480   other vegetables            yogurt        488  0.012589\n",
       "10072            yogurt  other vegetables        488  0.012589"
      ]
     },
     "execution_count": 237,
     "metadata": {},
     "output_type": "execute_result"
    }
   ],
   "source": [
    "result_df['Support'] = result_df['Occurence']/len(transformed_data)\n",
    "result_df.head(20)"
   ]
  },
  {
   "cell_type": "code",
   "execution_count": 238,
   "id": "81621ea7",
   "metadata": {},
   "outputs": [],
   "source": [
    "def compute_lift(row):\n",
    "    support_A = indv_support(row['Antecedent'], Individual_elements_Support_df)\n",
    "    support_B = indv_support(row['Precedent'], Individual_elements_Support_df)\n",
    "    combined_support = row['Support']\n",
    "    row['Lift'] = combined_support/(support_A*support_B)\n",
    "#     print(combined_support/(support_A*support_B))\n",
    "    return row"
   ]
  },
  {
   "cell_type": "code",
   "execution_count": 239,
   "id": "5a113609",
   "metadata": {},
   "outputs": [
    {
     "data": {
      "text/html": [
       "<div>\n",
       "<style scoped>\n",
       "    .dataframe tbody tr th:only-of-type {\n",
       "        vertical-align: middle;\n",
       "    }\n",
       "\n",
       "    .dataframe tbody tr th {\n",
       "        vertical-align: top;\n",
       "    }\n",
       "\n",
       "    .dataframe thead th {\n",
       "        text-align: right;\n",
       "    }\n",
       "</style>\n",
       "<table border=\"1\" class=\"dataframe\">\n",
       "  <thead>\n",
       "    <tr style=\"text-align: right;\">\n",
       "      <th></th>\n",
       "      <th>Antecedent</th>\n",
       "      <th>Precedent</th>\n",
       "      <th>Occurence</th>\n",
       "      <th>Support</th>\n",
       "      <th>Lift</th>\n",
       "    </tr>\n",
       "  </thead>\n",
       "  <tbody>\n",
       "    <tr>\n",
       "      <th>2469</th>\n",
       "      <td>other vegetables</td>\n",
       "      <td>whole milk</td>\n",
       "      <td>866</td>\n",
       "      <td>0.022340</td>\n",
       "      <td>0.883075</td>\n",
       "    </tr>\n",
       "    <tr>\n",
       "      <th>9030</th>\n",
       "      <td>whole milk</td>\n",
       "      <td>other vegetables</td>\n",
       "      <td>866</td>\n",
       "      <td>0.022340</td>\n",
       "      <td>0.883075</td>\n",
       "    </tr>\n",
       "    <tr>\n",
       "      <th>9084</th>\n",
       "      <td>whole milk</td>\n",
       "      <td>rolls/buns</td>\n",
       "      <td>862</td>\n",
       "      <td>0.022237</td>\n",
       "      <td>0.945807</td>\n",
       "    </tr>\n",
       "    <tr>\n",
       "      <th>6321</th>\n",
       "      <td>rolls/buns</td>\n",
       "      <td>whole milk</td>\n",
       "      <td>862</td>\n",
       "      <td>0.022237</td>\n",
       "      <td>0.945807</td>\n",
       "    </tr>\n",
       "    <tr>\n",
       "      <th>9124</th>\n",
       "      <td>whole milk</td>\n",
       "      <td>yogurt</td>\n",
       "      <td>724</td>\n",
       "      <td>0.018677</td>\n",
       "      <td>1.002079</td>\n",
       "    </tr>\n",
       "  </tbody>\n",
       "</table>\n",
       "</div>"
      ],
      "text/plain": [
       "            Antecedent         Precedent  Occurence   Support      Lift\n",
       "2469  other vegetables        whole milk        866  0.022340  0.883075\n",
       "9030        whole milk  other vegetables        866  0.022340  0.883075\n",
       "9084        whole milk        rolls/buns        862  0.022237  0.945807\n",
       "6321        rolls/buns        whole milk        862  0.022237  0.945807\n",
       "9124        whole milk            yogurt        724  0.018677  1.002079"
      ]
     },
     "execution_count": 239,
     "metadata": {},
     "output_type": "execute_result"
    }
   ],
   "source": [
    "result_df2 = result_df.apply(compute_lift, axis=1)\n",
    "result_df2.head()\n",
    "#Lift matches with the ones computed from the library!!!!"
   ]
  },
  {
   "cell_type": "markdown",
   "id": "4b5947bb",
   "metadata": {},
   "source": [
    "### Trying to compute the confidence between the items now with NumPy"
   ]
  },
  {
   "cell_type": "code",
   "execution_count": 240,
   "id": "c6f7152b",
   "metadata": {},
   "outputs": [],
   "source": [
    "#confidence is the ratio of the support of the combined itemset to the support of the antecedent\n",
    "def compute_confidence(row):\n",
    "    combined_support = row['Support']\n",
    "    support_A = indv_support(row['Antecedent'], Individual_elements_Support_df)\n",
    "    row['Confidence'] = combined_support/support_A\n",
    "    return row"
   ]
  },
  {
   "cell_type": "code",
   "execution_count": 241,
   "id": "e9f481cb",
   "metadata": {},
   "outputs": [
    {
     "data": {
      "text/html": [
       "<div>\n",
       "<style scoped>\n",
       "    .dataframe tbody tr th:only-of-type {\n",
       "        vertical-align: middle;\n",
       "    }\n",
       "\n",
       "    .dataframe tbody tr th {\n",
       "        vertical-align: top;\n",
       "    }\n",
       "\n",
       "    .dataframe thead th {\n",
       "        text-align: right;\n",
       "    }\n",
       "</style>\n",
       "<table border=\"1\" class=\"dataframe\">\n",
       "  <thead>\n",
       "    <tr style=\"text-align: right;\">\n",
       "      <th></th>\n",
       "      <th>Antecedent</th>\n",
       "      <th>Precedent</th>\n",
       "      <th>Occurence</th>\n",
       "      <th>Support</th>\n",
       "      <th>Lift</th>\n",
       "      <th>Confidence</th>\n",
       "    </tr>\n",
       "  </thead>\n",
       "  <tbody>\n",
       "    <tr>\n",
       "      <th>2469</th>\n",
       "      <td>other vegetables</td>\n",
       "      <td>whole milk</td>\n",
       "      <td>866</td>\n",
       "      <td>0.022340</td>\n",
       "      <td>0.883075</td>\n",
       "      <td>0.162263</td>\n",
       "    </tr>\n",
       "    <tr>\n",
       "      <th>9030</th>\n",
       "      <td>whole milk</td>\n",
       "      <td>other vegetables</td>\n",
       "      <td>866</td>\n",
       "      <td>0.022340</td>\n",
       "      <td>0.883075</td>\n",
       "      <td>0.121578</td>\n",
       "    </tr>\n",
       "    <tr>\n",
       "      <th>9084</th>\n",
       "      <td>whole milk</td>\n",
       "      <td>rolls/buns</td>\n",
       "      <td>862</td>\n",
       "      <td>0.022237</td>\n",
       "      <td>0.945807</td>\n",
       "      <td>0.121016</td>\n",
       "    </tr>\n",
       "    <tr>\n",
       "      <th>6321</th>\n",
       "      <td>rolls/buns</td>\n",
       "      <td>whole milk</td>\n",
       "      <td>862</td>\n",
       "      <td>0.022237</td>\n",
       "      <td>0.945807</td>\n",
       "      <td>0.173790</td>\n",
       "    </tr>\n",
       "    <tr>\n",
       "      <th>9124</th>\n",
       "      <td>whole milk</td>\n",
       "      <td>yogurt</td>\n",
       "      <td>724</td>\n",
       "      <td>0.018677</td>\n",
       "      <td>1.002079</td>\n",
       "      <td>0.101643</td>\n",
       "    </tr>\n",
       "  </tbody>\n",
       "</table>\n",
       "</div>"
      ],
      "text/plain": [
       "            Antecedent         Precedent  Occurence   Support      Lift  \\\n",
       "2469  other vegetables        whole milk        866  0.022340  0.883075   \n",
       "9030        whole milk  other vegetables        866  0.022340  0.883075   \n",
       "9084        whole milk        rolls/buns        862  0.022237  0.945807   \n",
       "6321        rolls/buns        whole milk        862  0.022237  0.945807   \n",
       "9124        whole milk            yogurt        724  0.018677  1.002079   \n",
       "\n",
       "      Confidence  \n",
       "2469    0.162263  \n",
       "9030    0.121578  \n",
       "9084    0.121016  \n",
       "6321    0.173790  \n",
       "9124    0.101643  "
      ]
     },
     "execution_count": 241,
     "metadata": {},
     "output_type": "execute_result"
    }
   ],
   "source": [
    "result_df3 = result_df2.apply(compute_confidence, axis=1)\n",
    "result_df3.head()\n",
    "#confidence of whole milk and other vegetables match with that from library!!"
   ]
  },
  {
   "cell_type": "code",
   "execution_count": 242,
   "id": "d53e9c27",
   "metadata": {},
   "outputs": [],
   "source": [
    "def other_metrics(row):\n",
    "    support_A = indv_support(row['Antecedent'], Individual_elements_Support_df)\n",
    "    support_B = indv_support(row['Precedent'], Individual_elements_Support_df)\n",
    "    combined_support = row['Support']\n",
    "    confidence = row['Confidence']\n",
    "    \n",
    "    #computing the leverage]\n",
    "    row['Leverage'] = combined_support - (support_A * support_B)\n",
    "    \n",
    "    #computing the Conviction\n",
    "    row['Conviction'] = (1 - support_B) / (1 - confidence)\n",
    "    \n",
    "    #Computing the Zhang Metric\n",
    "    a = combined_support*(1-support_A)\n",
    "    b=support_A *(support_B-combined_support)\n",
    "    denom = np.maximum(a,b)\n",
    "    row['Zhangs_metric'] = (combined_support - (support_A * support_B))/denom\n",
    "        \n",
    "    return row"
   ]
  },
  {
   "cell_type": "code",
   "execution_count": 243,
   "id": "b20a2ec1",
   "metadata": {},
   "outputs": [
    {
     "name": "stderr",
     "output_type": "stream",
     "text": [
      "C:\\Users\\OMEN\\AppData\\Local\\Temp\\ipykernel_11452\\1901959285.py:11: RuntimeWarning: divide by zero encountered in scalar divide\n",
      "  row['Conviction'] = (1 - support_B) / (1 - confidence)\n",
      "C:\\Users\\OMEN\\AppData\\Local\\Temp\\ipykernel_11452\\1901959285.py:11: RuntimeWarning: divide by zero encountered in scalar divide\n",
      "  row['Conviction'] = (1 - support_B) / (1 - confidence)\n",
      "C:\\Users\\OMEN\\AppData\\Local\\Temp\\ipykernel_11452\\1901959285.py:11: RuntimeWarning: divide by zero encountered in scalar divide\n",
      "  row['Conviction'] = (1 - support_B) / (1 - confidence)\n",
      "C:\\Users\\OMEN\\AppData\\Local\\Temp\\ipykernel_11452\\1901959285.py:11: RuntimeWarning: divide by zero encountered in scalar divide\n",
      "  row['Conviction'] = (1 - support_B) / (1 - confidence)\n"
     ]
    },
    {
     "data": {
      "text/html": [
       "<div>\n",
       "<style scoped>\n",
       "    .dataframe tbody tr th:only-of-type {\n",
       "        vertical-align: middle;\n",
       "    }\n",
       "\n",
       "    .dataframe tbody tr th {\n",
       "        vertical-align: top;\n",
       "    }\n",
       "\n",
       "    .dataframe thead th {\n",
       "        text-align: right;\n",
       "    }\n",
       "</style>\n",
       "<table border=\"1\" class=\"dataframe\">\n",
       "  <thead>\n",
       "    <tr style=\"text-align: right;\">\n",
       "      <th></th>\n",
       "      <th>Antecedent</th>\n",
       "      <th>Precedent</th>\n",
       "      <th>Occurence</th>\n",
       "      <th>Support</th>\n",
       "      <th>Lift</th>\n",
       "      <th>Confidence</th>\n",
       "      <th>Leverage</th>\n",
       "      <th>Conviction</th>\n",
       "      <th>Zhangs_metric</th>\n",
       "    </tr>\n",
       "  </thead>\n",
       "  <tbody>\n",
       "    <tr>\n",
       "      <th>2469</th>\n",
       "      <td>other vegetables</td>\n",
       "      <td>whole milk</td>\n",
       "      <td>866</td>\n",
       "      <td>0.022340</td>\n",
       "      <td>0.883075</td>\n",
       "      <td>0.162263</td>\n",
       "      <td>-0.002958</td>\n",
       "      <td>0.974354</td>\n",
       "      <td>-0.133108</td>\n",
       "    </tr>\n",
       "    <tr>\n",
       "      <th>9030</th>\n",
       "      <td>whole milk</td>\n",
       "      <td>other vegetables</td>\n",
       "      <td>866</td>\n",
       "      <td>0.022340</td>\n",
       "      <td>0.883075</td>\n",
       "      <td>0.121578</td>\n",
       "      <td>-0.002958</td>\n",
       "      <td>0.981674</td>\n",
       "      <td>-0.139573</td>\n",
       "    </tr>\n",
       "    <tr>\n",
       "      <th>9084</th>\n",
       "      <td>whole milk</td>\n",
       "      <td>rolls/buns</td>\n",
       "      <td>862</td>\n",
       "      <td>0.022237</td>\n",
       "      <td>0.945807</td>\n",
       "      <td>0.121016</td>\n",
       "      <td>-0.001274</td>\n",
       "      <td>0.992111</td>\n",
       "      <td>-0.065593</td>\n",
       "    </tr>\n",
       "    <tr>\n",
       "      <th>6321</th>\n",
       "      <td>rolls/buns</td>\n",
       "      <td>whole milk</td>\n",
       "      <td>862</td>\n",
       "      <td>0.022237</td>\n",
       "      <td>0.945807</td>\n",
       "      <td>0.173790</td>\n",
       "      <td>-0.001274</td>\n",
       "      <td>0.987947</td>\n",
       "      <td>-0.061654</td>\n",
       "    </tr>\n",
       "    <tr>\n",
       "      <th>9124</th>\n",
       "      <td>whole milk</td>\n",
       "      <td>yogurt</td>\n",
       "      <td>724</td>\n",
       "      <td>0.018677</td>\n",
       "      <td>1.002079</td>\n",
       "      <td>0.101643</td>\n",
       "      <td>0.000039</td>\n",
       "      <td>1.000235</td>\n",
       "      <td>0.002542</td>\n",
       "    </tr>\n",
       "  </tbody>\n",
       "</table>\n",
       "</div>"
      ],
      "text/plain": [
       "            Antecedent         Precedent  Occurence   Support      Lift  \\\n",
       "2469  other vegetables        whole milk        866  0.022340  0.883075   \n",
       "9030        whole milk  other vegetables        866  0.022340  0.883075   \n",
       "9084        whole milk        rolls/buns        862  0.022237  0.945807   \n",
       "6321        rolls/buns        whole milk        862  0.022237  0.945807   \n",
       "9124        whole milk            yogurt        724  0.018677  1.002079   \n",
       "\n",
       "      Confidence  Leverage  Conviction  Zhangs_metric  \n",
       "2469    0.162263 -0.002958    0.974354      -0.133108  \n",
       "9030    0.121578 -0.002958    0.981674      -0.139573  \n",
       "9084    0.121016 -0.001274    0.992111      -0.065593  \n",
       "6321    0.173790 -0.001274    0.987947      -0.061654  \n",
       "9124    0.101643  0.000039    1.000235       0.002542  "
      ]
     },
     "execution_count": 243,
     "metadata": {},
     "output_type": "execute_result"
    }
   ],
   "source": [
    "final_result = result_df3.apply(other_metrics, axis=1)\n",
    "final_result.head()"
   ]
  },
  {
   "cell_type": "code",
   "execution_count": 247,
   "id": "892866cd",
   "metadata": {},
   "outputs": [
    {
     "data": {
      "text/plain": [
       "pandas.core.frame.DataFrame"
      ]
     },
     "execution_count": 247,
     "metadata": {},
     "output_type": "execute_result"
    }
   ],
   "source": [
    "type(rules)"
   ]
  },
  {
   "cell_type": "code",
   "execution_count": 251,
   "id": "77625752",
   "metadata": {},
   "outputs": [
    {
     "data": {
      "text/html": [
       "<div>\n",
       "<style scoped>\n",
       "    .dataframe tbody tr th:only-of-type {\n",
       "        vertical-align: middle;\n",
       "    }\n",
       "\n",
       "    .dataframe tbody tr th {\n",
       "        vertical-align: top;\n",
       "    }\n",
       "\n",
       "    .dataframe thead th {\n",
       "        text-align: right;\n",
       "    }\n",
       "</style>\n",
       "<table border=\"1\" class=\"dataframe\">\n",
       "  <thead>\n",
       "    <tr style=\"text-align: right;\">\n",
       "      <th></th>\n",
       "      <th>Antecedent</th>\n",
       "      <th>Precedent</th>\n",
       "      <th>Occurence</th>\n",
       "      <th>Support</th>\n",
       "      <th>Lift</th>\n",
       "      <th>Confidence</th>\n",
       "      <th>Leverage</th>\n",
       "      <th>Conviction</th>\n",
       "      <th>Zhangs_metric</th>\n",
       "    </tr>\n",
       "  </thead>\n",
       "  <tbody>\n",
       "    <tr>\n",
       "      <th>9106</th>\n",
       "      <td>whole milk</td>\n",
       "      <td>bottled water</td>\n",
       "      <td>406</td>\n",
       "      <td>0.010473</td>\n",
       "      <td>0.820173</td>\n",
       "      <td>0.056998</td>\n",
       "      <td>-0.002296</td>\n",
       "      <td>0.986747</td>\n",
       "      <td>-0.211737</td>\n",
       "    </tr>\n",
       "  </tbody>\n",
       "</table>\n",
       "</div>"
      ],
      "text/plain": [
       "      Antecedent      Precedent  Occurence   Support      Lift  Confidence  \\\n",
       "9106  whole milk  bottled water        406  0.010473  0.820173    0.056998   \n",
       "\n",
       "      Leverage  Conviction  Zhangs_metric  \n",
       "9106 -0.002296    0.986747      -0.211737  "
      ]
     },
     "execution_count": 251,
     "metadata": {},
     "output_type": "execute_result"
    }
   ],
   "source": [
    "row_df1 = final_result[(final_result['Antecedent'] == 'whole milk') & (final_result['Precedent']=='bottled water')]\n",
    "row_df1.head()"
   ]
  },
  {
   "cell_type": "code",
   "execution_count": 258,
   "id": "a98d35e9",
   "metadata": {},
   "outputs": [
    {
     "data": {
      "text/html": [
       "<div>\n",
       "<style scoped>\n",
       "    .dataframe tbody tr th:only-of-type {\n",
       "        vertical-align: middle;\n",
       "    }\n",
       "\n",
       "    .dataframe tbody tr th {\n",
       "        vertical-align: top;\n",
       "    }\n",
       "\n",
       "    .dataframe thead th {\n",
       "        text-align: right;\n",
       "    }\n",
       "</style>\n",
       "<table border=\"1\" class=\"dataframe\">\n",
       "  <thead>\n",
       "    <tr style=\"text-align: right;\">\n",
       "      <th></th>\n",
       "      <th>Antecedent</th>\n",
       "      <th>Precedent</th>\n",
       "      <th>Occurence</th>\n",
       "      <th>Support</th>\n",
       "      <th>Lift</th>\n",
       "      <th>Confidence</th>\n",
       "      <th>Leverage</th>\n",
       "      <th>Conviction</th>\n",
       "      <th>Zhangs_metric</th>\n",
       "    </tr>\n",
       "  </thead>\n",
       "  <tbody>\n",
       "    <tr>\n",
       "      <th>131</th>\n",
       "      <td>pasta</td>\n",
       "      <td>kitchen utensil</td>\n",
       "      <td>5</td>\n",
       "      <td>0.000129</td>\n",
       "      <td>100.427461</td>\n",
       "      <td>0.012953</td>\n",
       "      <td>0.000128</td>\n",
       "      <td>1.012993</td>\n",
       "      <td>1.000000</td>\n",
       "    </tr>\n",
       "    <tr>\n",
       "      <th>8205</th>\n",
       "      <td>bottled water</td>\n",
       "      <td>kitchen utensil</td>\n",
       "      <td>5</td>\n",
       "      <td>0.000129</td>\n",
       "      <td>14.389384</td>\n",
       "      <td>0.001856</td>\n",
       "      <td>0.000120</td>\n",
       "      <td>1.001730</td>\n",
       "      <td>1.000000</td>\n",
       "    </tr>\n",
       "    <tr>\n",
       "      <th>6277</th>\n",
       "      <td>rolls/buns</td>\n",
       "      <td>kitchen utensil</td>\n",
       "      <td>5</td>\n",
       "      <td>0.000129</td>\n",
       "      <td>7.815524</td>\n",
       "      <td>0.001008</td>\n",
       "      <td>0.000112</td>\n",
       "      <td>1.000880</td>\n",
       "      <td>1.000000</td>\n",
       "    </tr>\n",
       "    <tr>\n",
       "      <th>10851</th>\n",
       "      <td>soups</td>\n",
       "      <td>preservation products</td>\n",
       "      <td>2</td>\n",
       "      <td>0.000052</td>\n",
       "      <td>251.720779</td>\n",
       "      <td>0.012987</td>\n",
       "      <td>0.000051</td>\n",
       "      <td>1.013106</td>\n",
       "      <td>1.000000</td>\n",
       "    </tr>\n",
       "    <tr>\n",
       "      <th>9165</th>\n",
       "      <td>artif. sweetener</td>\n",
       "      <td>baby cosmetics</td>\n",
       "      <td>9</td>\n",
       "      <td>0.000232</td>\n",
       "      <td>235.414980</td>\n",
       "      <td>0.078947</td>\n",
       "      <td>0.000231</td>\n",
       "      <td>1.085350</td>\n",
       "      <td>0.998689</td>\n",
       "    </tr>\n",
       "  </tbody>\n",
       "</table>\n",
       "</div>"
      ],
      "text/plain": [
       "             Antecedent              Precedent  Occurence   Support  \\\n",
       "131               pasta        kitchen utensil          5  0.000129   \n",
       "8205      bottled water        kitchen utensil          5  0.000129   \n",
       "6277         rolls/buns        kitchen utensil          5  0.000129   \n",
       "10851             soups  preservation products          2  0.000052   \n",
       "9165   artif. sweetener         baby cosmetics          9  0.000232   \n",
       "\n",
       "             Lift  Confidence  Leverage  Conviction  Zhangs_metric  \n",
       "131    100.427461    0.012953  0.000128    1.012993       1.000000  \n",
       "8205    14.389384    0.001856  0.000120    1.001730       1.000000  \n",
       "6277     7.815524    0.001008  0.000112    1.000880       1.000000  \n",
       "10851  251.720779    0.012987  0.000051    1.013106       1.000000  \n",
       "9165   235.414980    0.078947  0.000231    1.085350       0.998689  "
      ]
     },
     "execution_count": 258,
     "metadata": {},
     "output_type": "execute_result"
    }
   ],
   "source": [
    "final_result_zhang_sorted = final_result.sort_values(by='Zhangs_metric', ascending=False)\n",
    "final_result_zhang_sorted.head()"
   ]
  },
  {
   "cell_type": "code",
   "execution_count": null,
   "id": "ecd07690",
   "metadata": {},
   "outputs": [],
   "source": [
    "'''\n",
    "\n",
    "antecedents      consequents  antecedent support  consequent support  \\\n",
    "0     (whole milk)   (bottled beer)            0.183748            0.054740   \n",
    "1   (bottled beer)     (whole milk)            0.054740            0.183748   \n",
    "2     (whole milk)  (bottled water)            0.183748            0.069496   \n",
    "3  (bottled water)     (whole milk)            0.069496            0.183748   \n",
    "4   (citrus fruit)     (whole milk)            0.060647            0.183748   \n",
    "\n",
    "    support  confidence      lift  leverage  conviction  zhangs_metric  \n",
    "0  0.010602    0.057700  1.054079  0.000544    1.003142       0.062854  \n",
    "1  0.010602    0.193685  1.054079  0.000544    1.012324       0.054276  \n",
    "2  0.010473    0.056998  0.820173 -0.002296    0.986747      -0.211737  \n",
    "3  0.010473    0.150705  0.820173 -0.002296    0.961094      -0.190697  \n",
    "4  0.011247    0.185453  1.009278  0.000103    1.002093       0.009786  \n",
    "\n",
    "'''"
   ]
  },
  {
   "cell_type": "markdown",
   "id": "ea7227f4",
   "metadata": {},
   "source": [
    "## Leverage, Conviction, and Zhang's Metrics computed without the library Match!!!"
   ]
  },
  {
   "cell_type": "code",
   "execution_count": 261,
   "id": "b97c9c57",
   "metadata": {},
   "outputs": [
    {
     "data": {
      "image/png": "[encoded data removed]",
      "text/plain": [
       "<Figure size 800x600 with 1 Axes>"
      ]
     },
     "metadata": {},
     "output_type": "display_data"
    }
   ],
   "source": [
    "#support vs Confidence?\n",
    "plt.figure(figsize=(8, 6))\n",
    "plt.scatter(final_result['Support'], final_result['Confidence'], alpha=0.5, color='blue')\n",
    "plt.title('Scatter Plot between Support and Confidence')\n",
    "plt.xlabel('Support')\n",
    "plt.ylabel('Confidence')\n",
    "plt.show()"
   ]
  },
  {
   "cell_type": "code",
   "execution_count": null,
   "id": "f2da13e1",
   "metadata": {},
   "outputs": [],
   "source": [
    "zhang_sorted = final_result[final_result['zhang']>0].sort_values('zhang', ascending=False)\n",
    "final_result"
   ]
  },
  {
   "cell_type": "code",
   "execution_count": null,
   "id": "1b72f1e9",
   "metadata": {},
   "outputs": [],
   "source": []
  },
  {
   "cell_type": "code",
   "execution_count": 259,
   "id": "2ddf0016",
   "metadata": {},
   "outputs": [
    {
     "data": {
      "image/png": "[encoded data removed]",
      "text/plain": [
       "<Figure size 1000x800 with 2 Axes>"
      ]
     },
     "metadata": {},
     "output_type": "display_data"
    }
   ],
   "source": [
    "# Filter the top 20 items with Zhang's metric greater than 0\n",
    "top_20_zhangs = final_result[final_result['Zhangs_metric'] > 0].nlargest(20, 'Zhangs_metric')\n",
    "\n",
    "# Reshape the data for heatmap visualization\n",
    "heatmap_data = top_20_zhangs.pivot(index='Antecedent', columns='Precedent', values='Zhangs_metric')\n",
    "\n",
    "# Create the heatmap\n",
    "plt.figure(figsize=(10, 8))\n",
    "sns.heatmap(heatmap_data, annot=True, cmap='tab20', linewidths=0.5)\n",
    "plt.title(\"Zhang's Metric Heatmap for Top 20 Items\")\n",
    "plt.xlabel('Precedent')\n",
    "plt.ylabel('Antecedent')\n",
    "plt.show()"
   ]
  },
  {
   "cell_type": "code",
   "execution_count": null,
   "id": "313b4bd9",
   "metadata": {},
   "outputs": [],
   "source": []
  },
  {
   "cell_type": "code",
   "execution_count": 262,
   "id": "a49c6279",
   "metadata": {},
   "outputs": [],
   "source": [
    "#visualizing the networks\n",
    "import networkx as nx"
   ]
  },
  {
   "cell_type": "code",
   "execution_count": 266,
   "id": "570a9b0e",
   "metadata": {},
   "outputs": [],
   "source": [
    "top_10_zhangs = final_result[final_result['Zhangs_metric'] > 0].nlargest(10, 'Zhangs_metric')"
   ]
  },
  {
   "cell_type": "code",
   "execution_count": 267,
   "id": "ae2736ad",
   "metadata": {},
   "outputs": [
    {
     "data": {
      "image/png": "[encoded data removed]",
      "text/plain": [
       "<Figure size 1000x600 with 1 Axes>"
      ]
     },
     "metadata": {},
     "output_type": "display_data"
    }
   ],
   "source": [
    "# Create a directed graph\n",
    "G = nx.DiGraph()\n",
    "\n",
    "# Add edges with attributes from the DataFrame\n",
    "for index, row in top_10_zhangs.iterrows():\n",
    "    G.add_edge(row['Antecedent'], row['Precedent'], Occurrence=row['Occurence'],\n",
    "               Support=row['Support'], Lift=row['Lift'], Confidence=row['Confidence'],\n",
    "               Leverage=row['Leverage'], Conviction=row['Conviction'], Zhangs_metric=row['Zhangs_metric'])\n",
    "\n",
    "# Draw the graph\n",
    "plt.figure(figsize=(10, 6))\n",
    "pos = nx.spring_layout(G)\n",
    "nx.draw(G, pos, with_labels=True, node_size=1500, node_color='skyblue', font_weight='bold', font_size=10, edge_color='black')\n",
    "edge_labels = nx.get_edge_attributes(G, 'Zhangs_metric')\n",
    "nx.draw_networkx_edge_labels(G, pos, edge_labels=edge_labels, font_color='red')\n",
    "plt.title('Network Visualization')\n",
    "plt.show()"
   ]
  },
  {
   "cell_type": "code",
   "execution_count": 270,
   "id": "86d8477f",
   "metadata": {},
   "outputs": [
    {
     "data": {
      "image/png": "[encoded data removed]",
      "text/plain": [
       "<Figure size 750x750 with 12 Axes>"
      ]
     },
     "metadata": {},
     "output_type": "display_data"
    }
   ],
   "source": [
    "# Pairplot of Confidence, Conviction, and Zhang's Score\n",
    "sns.pairplot(final_result[['Confidence', 'Conviction', 'Zhangs_metric']])\n",
    "plt.suptitle('Pairplot of Metrics', y=1.02)\n",
    "plt.show()"
   ]
  },
  {
   "cell_type": "code",
   "execution_count": null,
   "id": "add4a209",
   "metadata": {},
   "outputs": [],
   "source": []
  },
  {
   "cell_type": "code",
   "execution_count": 269,
   "id": "488c6ba9",
   "metadata": {},
   "outputs": [
    {
     "data": {
      "image/png": "[encoded data removed]",
      "text/plain": [
       "<Figure size 800x600 with 2 Axes>"
      ]
     },
     "metadata": {},
     "output_type": "display_data"
    }
   ],
   "source": [
    "#correlation matrix\n",
    "correlation_matrix = final_result[['Confidence', 'Conviction', 'Zhangs_metric']].corr()\n",
    "plt.figure(figsize=(8, 6))\n",
    "sns.heatmap(correlation_matrix, annot=True, cmap='YlGnBu')\n",
    "plt.title('Correlation Heatmap of Metrics')\n",
    "plt.show()"
   ]
  },
  {
   "cell_type": "code",
   "execution_count": null,
   "id": "4e873ac1",
   "metadata": {},
   "outputs": [],
   "source": []
  }
 ],
 "metadata": {
  "kernelspec": {
   "display_name": "Python 3 (ipykernel)",
   "language": "python",
   "name": "python3"
  },
  "language_info": {
   "codemirror_mode": {
    "name": "ipython",
    "version": 3
   },
   "file_extension": ".py",
   "mimetype": "text/x-python",
   "name": "python",
   "nbconvert_exporter": "python",
   "pygments_lexer": "ipython3",
   "version": "3.9.18"
  }
 },
 "nbformat": 4,
 "nbformat_minor": 5
}
